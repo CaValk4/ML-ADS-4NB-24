{
 "cells": [
  {
   "cell_type": "code",
   "execution_count": null,
   "metadata": {},
   "outputs": [],
   "source": [
    "valores = [4, 6, 3, 4, 5, 8, 4, 2]\n",
    "\n",
    "valor_maximo = max(valores)\n",
    "print(\"Valor máximo:\", valor_maximo)\n",
    "\n",
    "valor_minimo = min(valores)\n",
    "print(\"Valor mínimo:\", valor_minimo)\n",
    "\n",
    "media = sum(valores) / len(valores)\n",
    "print(\"Média aritmética:\", media)\n",
    "\n",
    "valores_ordenados = sorted(valores)\n",
    "n = len(valores_ordenados)\n",
    "if n % 2 == 0:\n",
    "    mediana = (valores_ordenados[n//2 - 1] + valores_ordenados[n//2]) / 2\n",
    "else:\n",
    "    mediana = valores_ordenados[n//2]\n",
    "print(\"Mediana:\", mediana)\n",
    "\n",
    "import statistics\n",
    "desvio_padrao = statistics.stdev(valores)\n",
    "print(\"Desvio padrão:\", desvio_padrao)"
   ]
  },
  {
   "cell_type": "code",
   "execution_count": null,
   "metadata": {},
   "outputs": [],
   "source": []
  }
 ],
 "metadata": {
  "language_info": {
   "name": "python"
  }
 },
 "nbformat": 4,
 "nbformat_minor": 2
}
