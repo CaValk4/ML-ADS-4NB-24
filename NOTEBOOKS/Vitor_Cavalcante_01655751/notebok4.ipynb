{
  "nbformat": 4,
  "nbformat_minor": 0,
  "metadata": {
    "colab": {
      "provenance": []
    },
    "kernelspec": {
      "name": "python3",
      "display_name": "Python 3"
    },
    "language_info": {
      "name": "python"
    }
  },
  "cells": [
    {
      "cell_type": "code",
      "execution_count": 1,
      "metadata": {
        "id": "j1rAcciK4VuO"
      },
      "outputs": [],
      "source": [
        "import pandas as pd\n",
        "\n",
        "# URL do dataset Wine\n",
        "url = 'https://archive.ics.uci.edu/ml/machine-learning-databases/wine/wine.data'\n",
        "\n",
        "# Nome das colunas em português BR\n",
        "column_names_pt_br = [\n",
        "    'classe',\n",
        "    'alcool',\n",
        "    'acido_malico',\n",
        "    'cinzas',\n",
        "    'alcalinidade_de_cinzas',\n",
        "    'magnesio',\n",
        "    'fenois_totais',\n",
        "    'flavanoides',\n",
        "    'fenois_nao_flavanoides',\n",
        "    'proantocianinas',\n",
        "    'intensidade_de_cor',\n",
        "    'matiz',\n",
        "    'od280_od315_de_vinhos_diluidos',\n",
        "    'prolina'\n",
        "]\n",
        "\n",
        "# Ler o arquivo CSV com as colunas especificadas\n",
        "vinhos = pd.read_csv(url, names=column_names_pt_br, dtype={'classe': object})\n",
        "\n",
        "# Separar as variáveis\n",
        "X = vinhos.drop('classe', axis=1)\n",
        "y = vinhos['classe']\n"
      ]
    },
    {
      "cell_type": "code",
      "source": [
        "# Configurando os random_states e valores de k para os experimentos\n",
        "random_states = [42, 17, 24]\n",
        "k_values = [3, 5]\n"
      ],
      "metadata": {
        "id": "4-BtK7nA6TXZ"
      },
      "execution_count": 2,
      "outputs": []
    },
    {
      "cell_type": "code",
      "source": [
        "from sklearn.model_selection import KFold\n",
        "from sklearn.neighbors import KNeighborsClassifier\n",
        "from sklearn.metrics import accuracy_score\n",
        "import numpy as np\n",
        "\n",
        "# Função para realizar a avaliação com KFold\n",
        "def evaluate_knn(random_state, k_values):\n",
        "    results = {}\n",
        "\n",
        "    # KFold com 10 splits\n",
        "    kf = KFold(n_splits=10, shuffle=True, random_state=random_state)\n",
        "\n",
        "    for k in k_values:\n",
        "        accuracies = []\n",
        "\n",
        "        # Loop sobre os folds\n",
        "        for train_index, test_index in kf.split(X):\n",
        "            X_train, X_test = X.iloc[train_index], X.iloc[test_index]\n",
        "            y_train, y_test = y.iloc[train_index], y.iloc[test_index]\n",
        "\n",
        "            # Treinamento do modelo KNN\n",
        "            knn = KNeighborsClassifier(n_neighbors=k)\n",
        "            knn.fit(X_train, y_train)\n",
        "\n",
        "            # Previsões e cálculo da acurácia\n",
        "            y_pred = knn.predict(X_test)\n",
        "            accuracy = accuracy_score(y_test, y_pred)\n",
        "            accuracies.append(accuracy)\n",
        "\n",
        "        # Média e desvio padrão das acurácias para o valor de k\n",
        "        mean_accuracy = np.mean(accuracies)\n",
        "        std_accuracy = np.std(accuracies)\n",
        "        results[k] = {'mean_accuracy': mean_accuracy, 'std_accuracy': std_accuracy}\n",
        "\n",
        "    return results\n"
      ],
      "metadata": {
        "id": "IQTZlM_76mGR"
      },
      "execution_count": 3,
      "outputs": []
    },
    {
      "cell_type": "code",
      "source": [
        "# Resultados para cada random_state\n",
        "for random_state in random_states:\n",
        "    print(f\"Random State: {random_state}\")\n",
        "    results = evaluate_knn(random_state, k_values)\n",
        "\n",
        "    for k in k_values:\n",
        "        print(f\"  k={k} -> Média de Acurácia: {results[k]['mean_accuracy']:.4f}, Desvio Padrão: {results[k]['std_accuracy']:.4f}\")\n",
        "\n",
        "    print()  # Separação entre os resultados de cada random_state\n"
      ],
      "metadata": {
        "colab": {
          "base_uri": "https://localhost:8080/"
        },
        "id": "F5HQ_vA-6tZQ",
        "outputId": "9b489cbc-6a5d-406a-dd5d-371e2bc5c4cd"
      },
      "execution_count": 4,
      "outputs": [
        {
          "output_type": "stream",
          "name": "stdout",
          "text": [
            "Random State: 42\n",
            "  k=3 -> Média de Acurácia: 0.7036, Desvio Padrão: 0.1392\n",
            "  k=5 -> Média de Acurácia: 0.6641, Desvio Padrão: 0.1001\n",
            "\n",
            "Random State: 17\n",
            "  k=3 -> Média de Acurácia: 0.6987, Desvio Padrão: 0.1040\n",
            "  k=5 -> Média de Acurácia: 0.6876, Desvio Padrão: 0.1121\n",
            "\n",
            "Random State: 24\n",
            "  k=3 -> Média de Acurácia: 0.7127, Desvio Padrão: 0.0968\n",
            "  k=5 -> Média de Acurácia: 0.7127, Desvio Padrão: 0.0940\n",
            "\n"
          ]
        }
      ]
    }
  ]
}