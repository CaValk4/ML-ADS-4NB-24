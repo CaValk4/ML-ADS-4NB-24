valores = [4, 6, 3, 4, 5, 8, 4, 2]

valor_maximo = max(valores)
valor_minimo = min(valores)
media_aritmetica = sum(valores) / len(valores)

valores_ordenados = sorted(valores)
n = len(valores)
if n % 2 == 0:
    mediana = (valores_ordenados[n//2 - 1] + valores_ordenados[n//2]) / 2
else:
    mediana = valores_ordenados[n//2]

media = media_aritmetica
soma_diferencas = sum((x - media) ** 2 for x in valores)
desvio_padrao = (soma_diferencas / len(valores)) ** 0.5

print(f'Valor máximo: {valor_maximo}')
print(f'Valor mínimo: {valor_minimo}')
print(f'Média aritmética: {media_aritmetica}')
print(f'Mediana: {mediana}')
print(f'Desvio padrão: {desvio_padrao}')
