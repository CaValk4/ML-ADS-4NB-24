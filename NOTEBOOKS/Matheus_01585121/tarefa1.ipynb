{
  "nbformat": 4,
  "nbformat_minor": 0,
  "metadata": {
    "colab": {
      "provenance": []
    },
    "kernelspec": {
      "name": "python3",
      "display_name": "Python 3"
    },
    "language_info": {
      "name": "python"
    }
  },
  "cells": [
    {
      "cell_type": "code",
      "execution_count": 25,
      "metadata": {
        "colab": {
          "base_uri": "https://localhost:8080/",
          "height": 453
        },
        "id": "ZJoY0KcANNnW",
        "outputId": "a0e267db-ef61-462c-c0a6-3be3081e317d"
      },
      "outputs": [
        {
          "output_type": "stream",
          "name": "stdout",
          "text": [
            "4 6\n",
            "6 3\n",
            "3 4\n",
            "4 5\n",
            "5 8\n",
            "8 4\n",
            "4 2\n"
          ]
        },
        {
          "output_type": "error",
          "ename": "IndexError",
          "evalue": "list index out of range",
          "traceback": [
            "\u001b[0;31m---------------------------------------------------------------------------\u001b[0m",
            "\u001b[0;31mIndexError\u001b[0m                                Traceback (most recent call last)",
            "\u001b[0;32m<ipython-input-25-9b9bb1a54384>\u001b[0m in \u001b[0;36m<cell line: 35>\u001b[0;34m()\u001b[0m\n\u001b[1;32m     33\u001b[0m \u001b[0;34m\u001b[0m\u001b[0m\n\u001b[1;32m     34\u001b[0m \u001b[0;34m\u001b[0m\u001b[0m\n\u001b[0;32m---> 35\u001b[0;31m \u001b[0mmediana\u001b[0m\u001b[0;34m(\u001b[0m\u001b[0mvalores\u001b[0m\u001b[0;34m)\u001b[0m\u001b[0;34m\u001b[0m\u001b[0;34m\u001b[0m\u001b[0m\n\u001b[0m\u001b[1;32m     36\u001b[0m \u001b[0;34m\u001b[0m\u001b[0m\n\u001b[1;32m     37\u001b[0m \u001b[0;34m\u001b[0m\u001b[0m\n",
            "\u001b[0;32m<ipython-input-25-9b9bb1a54384>\u001b[0m in \u001b[0;36mmediana\u001b[0;34m(valor)\u001b[0m\n\u001b[1;32m     27\u001b[0m   \u001b[0;32mfor\u001b[0m \u001b[0mlinha\u001b[0m \u001b[0;32min\u001b[0m \u001b[0mrange\u001b[0m\u001b[0;34m(\u001b[0m\u001b[0mcontador\u001b[0m\u001b[0;34m)\u001b[0m\u001b[0;34m:\u001b[0m\u001b[0;34m\u001b[0m\u001b[0;34m\u001b[0m\u001b[0m\n\u001b[1;32m     28\u001b[0m    \u001b[0mvalor1\u001b[0m \u001b[0;34m=\u001b[0m \u001b[0mvalor\u001b[0m\u001b[0;34m[\u001b[0m\u001b[0mlinha\u001b[0m\u001b[0;34m]\u001b[0m\u001b[0;34m\u001b[0m\u001b[0;34m\u001b[0m\u001b[0m\n\u001b[0;32m---> 29\u001b[0;31m    \u001b[0mvalor2\u001b[0m \u001b[0;34m=\u001b[0m \u001b[0mvalor\u001b[0m\u001b[0;34m[\u001b[0m\u001b[0mlinha\u001b[0m \u001b[0;34m+\u001b[0m \u001b[0;36m1\u001b[0m\u001b[0;34m]\u001b[0m\u001b[0;34m\u001b[0m\u001b[0;34m\u001b[0m\u001b[0m\n\u001b[0m\u001b[1;32m     30\u001b[0m    \u001b[0mprint\u001b[0m\u001b[0;34m(\u001b[0m\u001b[0mvalor1\u001b[0m\u001b[0;34m,\u001b[0m \u001b[0mvalor2\u001b[0m\u001b[0;34m)\u001b[0m\u001b[0;34m\u001b[0m\u001b[0;34m\u001b[0m\u001b[0m\n\u001b[1;32m     31\u001b[0m \u001b[0;34m\u001b[0m\u001b[0m\n",
            "\u001b[0;31mIndexError\u001b[0m: list index out of range"
          ]
        }
      ],
      "source": [
        "valores = [4, 6, 3, 4, 5, 8, 4, 2]\n",
        "\n",
        "# valorMaximo = max(valores)\n",
        "\n",
        "# print(valorMaximo)\n",
        "\n",
        "# valorMinimo = min(valores)\n",
        "\n",
        "# # print(valorMinimo)\n",
        "\n",
        "def media(valor):\n",
        "\n",
        " soma = 0\n",
        "\n",
        " contador = 0\n",
        "\n",
        " for linha in valor:\n",
        "    soma = soma + linha\n",
        "    contador = contador + 1\n",
        "\n",
        " print(\"media : \" , soma / contador)\n",
        "\n",
        "def mediana(valores):\n",
        "  contador = 0\n",
        "  novaEstrutura = []\n",
        "  for contadorLinha in valores:\n",
        "    contador += 1\n",
        "  for linha in range(contador):\n",
        "   valor1 = valores[linha]\n",
        "   valor2 = valores[linha + 1]\n",
        "\n",
        "   if valor1 > valor2:\n",
        "\n",
        "\n",
        "   print(valor1, valor2)\n",
        "\n",
        "\n",
        "\n",
        "\n",
        "mediana(valores)\n",
        "\n",
        "\n",
        "\n",
        "\n",
        "\n",
        "\n",
        "\n"
      ]
    },
    {
      "cell_type": "code",
      "source": [],
      "metadata": {
        "id": "YeIGpMJrNVBQ"
      },
      "execution_count": null,
      "outputs": []
    }
  ]
}